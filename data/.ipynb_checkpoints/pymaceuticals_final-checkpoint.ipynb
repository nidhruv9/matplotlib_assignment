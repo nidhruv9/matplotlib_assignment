{
 "cells": [
  {
   "cell_type": "markdown",
   "metadata": {},
   "source": [
    "# Pymaceuticals Inc.\n",
    "---\n",
    "\n",
    "### Analysis\n",
    "\n",
    "Summary:\n",
    "1. We can see with the help of Pie chart that the dataset has almost equal number of both gender mice.\n",
    "\n",
    "2.By analyzing the bar chart between \"Timepoints\" and \"Drug Regimen\" we may say that for every drug there were very less difference in the number of observed timepoints.\n",
    "\n",
    "3.As we can see from the summary statistics, the mean and median tumor volume for the mice are much less for the drug \"Capomulin\".The standard variation for tumor volume of the mice treated with Capomulin, is also smaller which supports the fact that this drugs performed much better for the treatment.\n",
    " \n",
    "4.We may also conclude that more weight is directly related to more tumor volume by anlyzing at the scatterplot and linear regression model."
   ]
  },
  {
   "cell_type": "code",
   "execution_count": null,
   "metadata": {},
   "outputs": [],
   "source": [
    "# Dependencies and Setup\n",
    "import matplotlib.pyplot as plt\n",
    "import pandas as pd\n",
    "import scipy.stats as st\n",
    "\n",
    "# Studying data files\n",
    "mouse_metadata_path = \"./data/Mouse_metadata.csv\"\n",
    "study_results_path = \"./data/Study_results.csv\"\n",
    "\n",
    "# Reading the mouse data and the study results\n",
    "mouse_metadata = pd.read_csv(mouse_metadata_path)\n",
    "study_results = pd.read_csv(study_results_path)\n",
    "\n",
    "# Combining the data into a single DataFrame\n",
    "science_study_df = pd.merge(study_results, mouse_metadata, how = 'left', on = 'Mouse ID')\n",
    "\n",
    "# Displaying the data table for preview\n",
    "science_study_df.head()\n"
   ]
  },
  {
   "cell_type": "code",
   "execution_count": null,
   "metadata": {},
   "outputs": [],
   "source": [
    "# Checking the number of mice.\n",
    "len(science_study_df['Mouse ID'].unique())"
   ]
  },
  {
   "cell_type": "code",
   "execution_count": null,
   "metadata": {},
   "outputs": [],
   "source": [
    "# Getting the duplicate mice by ID number that shows up for Mouse ID and Timepoint. \n",
    "mouse_ids_duplicated = science_study_df[science_study_df.duplicated(subset=[\"Mouse ID\", \"Timepoint\"])][\"Mouse ID\"].unique()\n",
    "mouse_ids_duplicated"
   ]
  },
  {
   "cell_type": "code",
   "execution_count": null,
   "metadata": {},
   "outputs": [],
   "source": [
    "#Optional: Get all the data for the duplicate mouse ID. \n",
    "mouse_data_duplicated = science_study_df[science_study_df[\"Mouse ID\"] == 'g989']\n",
    "mouse_data_duplicated"
   ]
  },
  {
   "cell_type": "code",
   "execution_count": null,
   "metadata": {},
   "outputs": [],
   "source": [
    "# Create a clean DataFrame by dropping the duplicate mouse by its ID.\n",
    "clean_science_study_df = science_study_df[science_study_df[\"Mouse ID\"].isin(mouse_ids_duplicated)== False]\n",
    "clean_science_study_df.head()\n"
   ]
  },
  {
   "cell_type": "code",
   "execution_count": null,
   "metadata": {},
   "outputs": [],
   "source": [
    "# Checking the number of mice in the clean DataFrame.\n",
    "len(clean_science_study_df['Mouse ID'].unique())"
   ]
  },
  {
   "cell_type": "markdown",
   "metadata": {},
   "source": [
    "## Summary Statistics"
   ]
  },
  {
   "cell_type": "code",
   "execution_count": null,
   "metadata": {},
   "outputs": [],
   "source": [
    "# A more advanced method to generate a summary statistics table of mean, median, variance, standard deviation,\n",
    "# and SEM of the tumor volume for each regimen (only one method is required in the solution)\n",
    "\n",
    "# Using the aggregation method, produce the same summary statistics in a single line\n",
    "\n",
    "summary_agg_method_df = clean_science_study_df.groupby(\"Drug Regimen\").agg({\"Tumor Volume (mm3)\":[\"mean\",\"median\",\"var\",\"std\",\"sem\"]})\n",
    "summary_agg_method_df\n"
   ]
  },
  {
   "cell_type": "markdown",
   "metadata": {},
   "source": [
    "## Bar and Pie Charts"
   ]
  },
  {
   "cell_type": "code",
   "execution_count": null,
   "metadata": {},
   "outputs": [],
   "source": [
    "# Generating a bar plot showing the total number of rows (Mouse ID/Timepoints) for each drug regimen using Pandas.\n",
    "drug_counts = clean_science_study_df[\"Drug Regimen\"].value_counts()\n",
    "drug_counts.plot(kind = \"bar\", alpha =1)\n",
    "plt.xlabel(\"Drug Regimen\")\n",
    "plt.ylabel(\"Number of observed Mouse Timepoints\")\n",
    "plt.xticks(rotation = 80)\n",
    "plt.show()\n"
   ]
  },
  {
   "cell_type": "code",
   "execution_count": null,
   "metadata": {},
   "outputs": [],
   "source": [
    "# Generate a bar plot showing the total number of rows (Mouse ID/Timepoints) for each drug regimen using pyplot.\n",
    "drug_counts = clean_science_study_df[\"Drug Regimen\"].value_counts()\n",
    "plt.bar(drug_counts.index.values,drug_counts.values,alpha=1)\n",
    "plt.xlabel(\"Drug Regimen\")\n",
    "plt.ylabel(\"Number of observed Mouse Timepoints\")\n",
    "plt.xticks(rotation=80)\n",
    "plt.show()\n"
   ]
  },
  {
   "cell_type": "code",
   "execution_count": null,
   "metadata": {},
   "outputs": [],
   "source": [
    "#Generating a pie plot showing the distribution of female versus male mice using Pandas\n",
    "mice_gender = [\"Male Mice\",\"Female Mice\"]\n",
    "gender_counts = clean_science_study_df.Sex.value_counts()\n",
    "explode = (0,0.05)\n",
    "plt.pie(gender_counts, explode = explode, labels = mice_gender, shadow = True, autopct =\"%1.1f%%\")\n",
    "plt.show()"
   ]
  },
  {
   "cell_type": "code",
   "execution_count": null,
   "metadata": {},
   "outputs": [],
   "source": [
    "# Generating a pie plot showing the distribution of female versus male mice using Pyplot\n",
    "gender_counts = clean_science_study_df.Sex.value_counts()\n",
    "plt.pie(gender_counts.values, labels=gender_counts.index.values, autopct='%1.1f%%')\n",
    "plt.axis(\"equal\")\n",
    "plt.show()\n"
   ]
  },
  {
   "cell_type": "markdown",
   "metadata": {},
   "source": [
    "## Quartiles, Outliers and Boxplots"
   ]
  },
  {
   "cell_type": "code",
   "execution_count": null,
   "metadata": {},
   "outputs": [],
   "source": [
    "# Calculate the final tumor volume of each mouse across four of the treatment regimens:  \n",
    "# Capomulin, Ramicane, Infubinol, and Ceftamin\n",
    "\n",
    "\n",
    "# Start by getting the last (greatest) timepoint for each mouse\n",
    "max_tumor_tp_value = clean_science_study_df.groupby([\"Mouse ID\"])[\"Timepoint\"].max()\n",
    "max_tumor_tp_value = max_tumor_tp_value.reset_index()\n",
    "\n",
    "# Merge this group df with the original DataFrame to get the tumor volume at the last timepoint\n",
    "merged_data_df = max_tumor_tp_value.merge(clean_science_study_df,on=[\"Mouse ID\",\"Timepoint\"], how=\"left\")\n"
   ]
  },
  {
   "cell_type": "code",
   "execution_count": null,
   "metadata": {},
   "outputs": [],
   "source": [
    "# Put treatments into a list for for loop (and later for plot labels)\n",
    "treatment_list = [\"Capomulin\", \"Ramicane\", \"Infubinol\", \"Ceftamin\"]\n",
    "\n",
    "# Create empty list to fill with tumor vol data (for plotting)\n",
    "tumor_volume_list = []\n",
    "\n",
    "# Calculate the IQR and quantitatively determine if there are any potential outliers. \n",
    "for drug in treatment_list:\n",
    "    \n",
    "    # Locate the rows which contain mice on each drug and get the tumor volumes\n",
    "    final_tumor_volume = merged_data_df.loc[merged_data_df[\"Drug Regimen\"]==drug,\"Tumor Volume (mm3)\"]\n",
    "    \n",
    "    # add subset \n",
    "    tumor_volume_list.append(final_tumor_volume)\n",
    "    \n",
    "    # Determine outliers using upper and lower bounds\n",
    "    quartiles = final_tumor_volume.quantile([0.25, 0.5, 0.75])\n",
    "    lowerq = quartiles[0.25]\n",
    "    upperq = quartiles[0.75]\n",
    "    iqr = upperq - lowerq\n",
    "    lower_bound = lowerq-(1.5*iqr)\n",
    "    upper_bound = upperq+(1.5*iqr)\n",
    "    \n",
    "    outliers=final_tumor_volume.loc[(final_tumor_volume<lower_bound)|(final_tumor_volume>upper_bound)]\n",
    "    print(f\"{drug} a potential outliers {outliers}\")    "
   ]
  },
  {
   "cell_type": "code",
   "execution_count": null,
   "metadata": {},
   "outputs": [],
   "source": [
    "# Generate a box plot that shows the distrubution of the tumor volume for each treatment group.\n",
    "orange_outlier = dict(markerfacecolor='red', markersize=10)\n",
    "plt.boxplot(tumor_volume_list, labels=treatment_list, flierprops=orange_outlier)\n",
    "plt.ylabel(\"Final Tumor Volume (mm3)\")\n",
    "plt.show()\n"
   ]
  },
  {
   "cell_type": "markdown",
   "metadata": {},
   "source": [
    "## Line and Scatter Plots"
   ]
  },
  {
   "cell_type": "code",
   "execution_count": null,
   "metadata": {
    "scrolled": true
   },
   "outputs": [],
   "source": [
    "# Generating a line plot of tumor volume vs. time point for a single mouse treated with Capomulin\n",
    "capomulin_table = clean_science_study_df[clean_science_study_df[\"Drug Regimen\"]==\"Capomulin\"]\n",
    "#capomulin_table\n",
    "single_mouse_data = capomulin_table[capomulin_table[\"Mouse ID\"]==\"l509\"]\n",
    "plt.plot(single_mouse_data[\"Timepoint\"],single_mouse_data[\"Tumor Volume (mm3)\"])\n",
    "plt.xlabel(\"TimePoint (days)\")\n",
    "plt.ylabel(\"Tumor Volume (mm3)\")\n",
    "plt.title(\"Capomulin treatment of mouse ID - r944\")\n",
    "plt.show()\n"
   ]
  },
  {
   "cell_type": "code",
   "execution_count": null,
   "metadata": {},
   "outputs": [],
   "source": [
    "# Generating a scatter plot of mouse weight vs. the average observed tumor volume for the entire Capomulin regimen\n",
    "capomulin_df=clean_science_study_df[clean_science_study_df[\"Drug Regimen\"]==\"Capomulin\"]\n",
    "capomulin_df\n",
    "capomulin_avg=capomulin_df.groupby([\"Mouse ID\"]).mean()\n",
    "capomulin_avg\n",
    "plt.scatter(capomulin_avg[\"Weight (g)\"],capomulin_avg[\"Tumor Volume (mm3)\"])\n",
    "plt.xlabel(\"Weight (g)\")\n",
    "plt.ylabel(\"Average Tumor Volume (mm3)\")\n",
    "plt.show()                      "
   ]
  },
  {
   "cell_type": "markdown",
   "metadata": {},
   "source": [
    "## Correlation and Regression"
   ]
  },
  {
   "cell_type": "code",
   "execution_count": null,
   "metadata": {},
   "outputs": [],
   "source": [
    "#Calculating the correlation coefficient for mouse weight and average observed tumor volume for the entire Capomulin regimen\n",
    "corr_coeff=st.pearsonr(capomulin_avg[\"Weight (g)\"],capomulin_avg[\"Tumor Volume (mm3)\"])\n",
    "print(f\"The correlation between mouse weight and the average tumor volume is {round(corr_coeff[0],2)}\")\n",
    "\n",
    "#Linear regression model for mouse weight and average observed tumor volume for the entire Capomulin regimen\n",
    "model = st.linregress(capomulin_avg[\"Weight (g)\"],capomulin_avg[\"Tumor Volume (mm3)\"])\n",
    "slope = model[0]\n",
    "b=model[1]\n",
    "\n",
    "y_values = capomulin_avg[\"Weight (g)\"] * slope + b\n",
    "plt.scatter(capomulin_avg[\"Weight (g)\"],capomulin_avg[\"Tumor Volume (mm3)\"])\n",
    "plt.plot(capomulin_avg[\"Weight (g)\"], y_values, color ='r')\n",
    "plt.xlabel(\"Weight (g)\")\n",
    "plt.ylabel(\"Average Tumor Volume (mm3)\")\n",
    "plt.show()\n",
    "\n",
    "\n",
    "\n"
   ]
  }
 ],
 "metadata": {
  "anaconda-cloud": {},
  "kernelspec": {
   "display_name": "Python 3 (ipykernel)",
   "language": "python",
   "name": "python3"
  },
  "language_info": {
   "codemirror_mode": {
    "name": "ipython",
    "version": 3
   },
   "file_extension": ".py",
   "mimetype": "text/x-python",
   "name": "python",
   "nbconvert_exporter": "python",
   "pygments_lexer": "ipython3",
   "version": "3.11.4"
  }
 },
 "nbformat": 4,
 "nbformat_minor": 4
}
